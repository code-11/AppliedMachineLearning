{
 "cells": [
  {
   "cell_type": "code",
   "execution_count": null,
   "metadata": {
    "collapsed": true
   },
   "outputs": [],
   "source": [
    "import pandas as pd\n",
    "import numpy as np\n",
    "from nltk.stem import PorterStemmer\n",
    "from nltk.corpus import stopwords\n",
    "\n",
    "def setup():\n",
    "    gt_df = pd.read_csv(\n",
    "        \"sentiment_labelled_sentences/yelp_labelled.txt\", \n",
    "        \"\\t\", \n",
    "        encoding='utf-8',\n",
    "        header = None, \n",
    "        names = [\"review\", \"score\"]\n",
    "    )\n",
    "#     amazon_df = pd.read_csv(\n",
    "#         \"sentiment_labelled_sentences/amazon_cells_labelled.txt\", \n",
    "#         \"\\t\", \n",
    "#         header = None, \n",
    "#         names = [\"review\", \"score\"]\n",
    "#     )\n",
    "#     imdb_df = pd.read_csv(\n",
    "#         \"sentiment_labelled_sentences/imdb_labelled.txt\", \n",
    "#         \"\\t\", \n",
    "#         header = None,\n",
    "#         names = [\"review\", \"score\"]\n",
    "#     )\n",
    "    \n",
    "#     yelp_df = yelp_df.dropna()\n",
    "#     amazon_df = amazon_df.dropna()\n",
    "#     imdb_df = imdb_df.dropna()\n",
    "\n",
    "#     yelp_df['src'] = pd.Series(\"yelp\", index = yelp_df.index)\n",
    "#     amazon_df['src'] = pd.Series(\"amazon\", index = amazon_df.index)\n",
    "#     imdb_df['src'] = pd.Series(\"imdb\", index = imdb_df.index)\n",
    "    \n",
    "#     data_df = pd.concat([yelp_df, amazon_df, imdb_df])\n",
    "    \n",
    "#     return data_df\n",
    "    \n",
    "setup()\n"
   ]
  }
 ],
 "metadata": {
  "kernelspec": {
   "display_name": "Python 2",
   "language": "python",
   "name": "python2"
  },
  "language_info": {
   "codemirror_mode": {
    "name": "ipython",
    "version": 2
   },
   "file_extension": ".py",
   "mimetype": "text/x-python",
   "name": "python",
   "nbconvert_exporter": "python",
   "pygments_lexer": "ipython2",
   "version": "2.7.10"
  }
 },
 "nbformat": 4,
 "nbformat_minor": 0
}
