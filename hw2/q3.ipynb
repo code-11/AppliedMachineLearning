{
 "cells": [
  {
   "cell_type": "code",
   "execution_count": 1,
   "metadata": {
    "collapsed": false
   },
   "outputs": [
    {
     "name": "stdout",
     "output_type": "stream",
     "text": [
      "[[-0.29769568  0.15906393  0.90607622]\n",
      " [-0.57050856 -0.0332003   0.03827317]\n",
      " [-0.52074297 -0.73585663 -0.13315536]\n",
      " [-0.32257847  0.5103921  -0.18363343]\n",
      " [-0.45898491  0.41425998 -0.35511895]]\n",
      "[  1.23922152e+01   3.92848616e+00   5.73316705e-16]\n",
      "[[-0.40928285 -0.56345932 -0.7176358 ]\n",
      " [-0.81597848 -0.12588456  0.56420935]\n",
      " [-0.40824829  0.81649658 -0.40824829]]\n",
      "(5, 3)\n",
      "(3,)\n",
      "(3, 3)\n",
      "[[  1.00000000e+00   2.00000000e+00   3.00000000e+00]\n",
      " [  3.00000000e+00   4.00000000e+00   5.00000000e+00]\n",
      " [  5.00000000e+00   4.00000000e+00   3.00000000e+00]\n",
      " [  4.87069635e-16   2.00000000e+00   4.00000000e+00]\n",
      " [  1.00000000e+00   3.00000000e+00   5.00000000e+00]]\n",
      "(153.56699645995911, 169.00000000000003)\n"
     ]
    }
   ],
   "source": [
    "import numpy as np\n",
    "from numpy import linalg as la\n",
    "m=np.matrix([[1,2,3],[3,4,5],[5,4,3],[0,2,4],[1,3,5]])\n",
    "U,S,V=la.svd(m, full_matrices=False)\n",
    "# S[1]=0\n",
    "# S[2]=0\n",
    "print(U)\n",
    "print(S)\n",
    "print(V)\n",
    "print(U.shape)\n",
    "print(S.shape)\n",
    "print(V.shape)\n",
    "print(U*np.diag(S)*V)\n",
    "\n",
    "# mt=np.transpose(m)\n",
    "# print(m*mt)\n",
    "# print(mt*m)\n",
    "# print(la.eig(mt*m))\n",
    "# print(\"___________\")\n",
    "# print(la.eig(m*mt))\n",
    "# print(la.det(mt*m))\n",
    "\n",
    "eng1=np.power(S[0],2)+np.power(S[1],2)\n",
    "\n",
    "eng2=np.power(S[0],2)\n",
    "\n",
    "print(eng2,eng1)"
   ]
  },
  {
   "cell_type": "code",
   "execution_count": null,
   "metadata": {
    "collapsed": true
   },
   "outputs": [],
   "source": []
  }
 ],
 "metadata": {
  "kernelspec": {
   "display_name": "Python 2",
   "language": "python",
   "name": "python2"
  },
  "language_info": {
   "codemirror_mode": {
    "name": "ipython",
    "version": 2
   },
   "file_extension": ".py",
   "mimetype": "text/x-python",
   "name": "python",
   "nbconvert_exporter": "python",
   "pygments_lexer": "ipython2",
   "version": "2.7.9"
  }
 },
 "nbformat": 4,
 "nbformat_minor": 0
}
