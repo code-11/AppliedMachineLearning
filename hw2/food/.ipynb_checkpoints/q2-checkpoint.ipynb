{
 "cells": [
  {
   "cell_type": "code",
   "execution_count": 8,
   "metadata": {
    "collapsed": false
   },
   "outputs": [
    {
     "name": "stdout",
     "output_type": "stream",
     "text": [
      "samples: 39774\n",
      "cuisine types: 20\n",
      "unique ingredients: 6714\n"
     ]
    }
   ],
   "source": [
    "import numpy as np\n",
    "from scipy import misc\n",
    "from matplotlib import pylab as plt\n",
    "import matplotlib.cm as cm\n",
    "from sklearn.linear_model import LogisticRegression\n",
    "from sklearn.preprocessing import MultiLabelBinarizer\n",
    "from sklearn.naive_bayes import GaussianNB,BernoulliNB\n",
    "from sklearn import cross_validation\n",
    "from sklearn import metrics\n",
    "import pandas as pd\n",
    "%matplotlib inline\n",
    "\n",
    "def unique_ing(all_data):\n",
    "    return np.unique(np.hstack(all_data[\"ingredients\"].values))\n",
    "def partb():\n",
    "    all_data=pd.read_json(\"train.json\")\n",
    "    print (\"samples: \"+ str(all_data[\"id\"].shape[0]))\n",
    "    print (\"cuisine types: \"+str(all_data[\"cuisine\"].unique().shape[0]))\n",
    "    print (\"unique ingredients: \"+str(len(unique_ing(all_data))))\n",
    "partb()"
   ]
  },
  {
   "cell_type": "code",
   "execution_count": 9,
   "metadata": {
    "collapsed": false
   },
   "outputs": [
    {
     "name": "stdout",
     "output_type": "stream",
     "text": [
      "[[0 0 0 ..., 0 0 0]\n",
      " [0 0 0 ..., 0 0 0]\n",
      " [0 0 0 ..., 0 0 0]\n",
      " ..., \n",
      " [0 0 0 ..., 0 0 0]\n",
      " [0 0 0 ..., 0 0 0]\n",
      " [0 0 0 ..., 0 0 0]]\n"
     ]
    }
   ],
   "source": [
    "def make_matrix():\n",
    "    all_data=pd.read_json(\"train.json\")\n",
    "    ingreds=all_data[\"ingredients\"].values\n",
    "    mlb = MultiLabelBinarizer()\n",
    "    binary=mlb.fit_transform(ingreds)\n",
    "    return binary\n",
    "def partc():\n",
    "    print (make_matrix())\n",
    "partc()"
   ]
  },
  {
   "cell_type": "code",
   "execution_count": 10,
   "metadata": {
    "collapsed": false
   },
   "outputs": [
    {
     "name": "stdout",
     "output_type": "stream",
     "text": [
      "gaussian: [ 0.38113549  0.38524776  0.38009357]\n",
      "bernoulli: [ 0.68302797  0.68225356  0.68548144]\n"
     ]
    }
   ],
   "source": [
    "\n",
    "def make_labels():\n",
    "    all_data=pd.read_json(\"train.json\")\n",
    "    return all_data[\"cuisine\"].values\n",
    "def partd():\n",
    "    gnb = GaussianNB()\n",
    "    bnb = BernoulliNB()\n",
    "    g_scores = cross_validation.cross_val_score(gnb, make_matrix(), make_labels(), cv=3)\n",
    "    b_scores = cross_validation.cross_val_score(bnb, make_matrix(), make_labels(), cv=3)\n",
    "    print (\"gaussian: \"+str(g_scores))\n",
    "    print (\"bernoulli: \"+str(b_scores))\n",
    "partd()"
   ]
  },
  {
   "cell_type": "code",
   "execution_count": 5,
   "metadata": {
    "collapsed": false
   },
   "outputs": [
    {
     "name": "stdout",
     "output_type": "stream",
     "text": [
      "logistic: 0.775758670409\n"
     ]
    }
   ],
   "source": [
    "def partf():\n",
    "    lr = LogisticRegression()\n",
    "    l_scores = cross_validation.cross_val_score(lr, make_matrix(), make_labels(), cv=3)\n",
    "    print (\"logistic: \"+str(np.mean((l_scores))))\n",
    "partf()"
   ]
  },
  {
   "cell_type": "code",
   "execution_count": 22,
   "metadata": {
    "collapsed": false,
    "scrolled": true
   },
   "outputs": [],
   "source": [
    "#find all the ingredients in test that arent in train. These guys suck.\n",
    "def overlap(clean_test):\n",
    "    all_data=pd.read_json(\"train.json\")\n",
    "    ingreds=all_data[\"ingredients\"].values\n",
    "    mlb = MultiLabelBinarizer()\n",
    "    #only want to fit\n",
    "    binary=mlb.fit(ingreds)  \n",
    "    train_classes=mlb.classes_\n",
    "    \n",
    "\n",
    "    ingreds=clean_test\n",
    "    mlb = MultiLabelBinarizer()\n",
    "    #only want to fit\n",
    "    binary=mlb.fit(ingreds)  \n",
    "    test_classes=mlb.classes_\n",
    "    \n",
    "    a=train_classes\n",
    "    b=test_classes\n",
    "    \n",
    "    print len(b[np.in1d(b, a,invert=True)])\n",
    "     \n",
    "    \n",
    "def label_meltdown():\n",
    "    mlb = myBinarizer()\n",
    "    mlb.fit([[1, 2], [3],[4]])\n",
    "    print(mlb.transform([[1,2,3,5,3,6]]))\n",
    "    \n",
    "def clean():\n",
    "    all_data=pd.read_json(\"train.json\")\n",
    "    ingreds=all_data[\"ingredients\"].values\n",
    "    mlb = MultiLabelBinarizer()\n",
    "    mlb.fit(ingreds)\n",
    "    allowed_ingred=mlb.classes_\n",
    "    \n",
    "    all_test_data=pd.read_json(\"test.json\")\n",
    "    new_data=[]\n",
    "    for line in all_test_data[\"ingredients\"].values:\n",
    "        new_line=[]\n",
    "        for el in line:\n",
    "            if el in allowed_ingred:\n",
    "                new_line.append(el)\n",
    "        new_data.append(new_line)\n",
    "    return np.array(new_data)\n",
    "    \n",
    "    \n",
    "def make_test_matrix():\n",
    "    #we need to have the same feature vectors, so we need the same binarizer\n",
    "    all_data=pd.read_json(\"train.json\")\n",
    "    ingreds=all_data[\"ingredients\"].values\n",
    "    mlb = MultiLabelBinarizer()\n",
    "    #only want to fit\n",
    "    binary=mlb.fit(ingreds)\n",
    "        \n",
    "    ingreds_test=clean()    \n",
    "#      #only want to transform\n",
    "    binary=mlb.transform(ingreds_test)\n",
    "    return binary\n",
    "\n",
    "def write_ids():\n",
    "    all_data=pd.read_json(\"test.json\")\n",
    "    ingreds=all_data[\"id\"].values\n",
    "    np.savetxt(\"ids.csv\",ingreds,delimiter=\",\",fmt=\"%s\")\n",
    "\n",
    "\n",
    "def partg():\n",
    "#     clean_test=clean()\n",
    "#     label_meltdown()\n",
    "#     make_test_matrix()\n",
    "    write_ids()\n",
    "#     lr = LogisticRegression()\n",
    "#     lr.fit(make_matrix(),make_labels())\n",
    "#     predicted=lr.predict(make_test_matrix())\n",
    "#     np.savetxt(\"food.csv\",predicted,delimiter=\",\",fmt=\"%s\")\n",
    "partg()\n",
    "    "
   ]
  },
  {
   "cell_type": "code",
   "execution_count": 20,
   "metadata": {
    "collapsed": false
   },
   "outputs": [
    {
     "name": "stdout",
     "output_type": "stream",
     "text": [
      "[[-0.29769568  0.15906393  0.90607622]\n",
      " [-0.57050856 -0.0332003   0.03827317]\n",
      " [-0.52074297 -0.73585663 -0.13315536]\n",
      " [-0.32257847  0.5103921  -0.18363343]\n",
      " [-0.45898491  0.41425998 -0.35511895]]\n",
      "[  1.23922152e+01   3.92848616e+00   5.73316705e-16]\n",
      "[[-0.40928285 -0.56345932 -0.7176358 ]\n",
      " [-0.81597848 -0.12588456  0.56420935]\n",
      " [-0.40824829  0.81649658 -0.40824829]]\n",
      "(5, 3)\n",
      "(3,)\n",
      "(3, 3)\n",
      "[[  1.00000000e+00   2.00000000e+00   3.00000000e+00]\n",
      " [  3.00000000e+00   4.00000000e+00   5.00000000e+00]\n",
      " [  5.00000000e+00   4.00000000e+00   3.00000000e+00]\n",
      " [  4.87069635e-16   2.00000000e+00   4.00000000e+00]\n",
      " [  1.00000000e+00   3.00000000e+00   5.00000000e+00]]\n",
      "(153.56699645995911, 169.00000000000003)\n"
     ]
    }
   ],
   "source": [
    "import numpy as np\n",
    "from numpy import linalg as la\n",
    "m=np.matrix([[1,2,3],[3,4,5],[5,4,3],[0,2,4],[1,3,5]])\n",
    "U,S,V=la.svd(m, full_matrices=False)\n",
    "# S[1]=0\n",
    "# S[2]=0\n",
    "print(U)\n",
    "print(S)\n",
    "print(V)\n",
    "print(U.shape)\n",
    "print(S.shape)\n",
    "print(V.shape)\n",
    "print(U*np.diag(S)*V)\n",
    "\n",
    "# mt=np.transpose(m)\n",
    "# print(m*mt)\n",
    "# print(mt*m)\n",
    "# print(la.eig(mt*m))\n",
    "# print(\"___________\")\n",
    "# print(la.eig(m*mt))\n",
    "# print(la.det(mt*m))\n",
    "\n",
    "eng1=np.power(S[0],2)+np.power(S[1],2)\n",
    "\n",
    "eng2=np.power(S[0],2)\n",
    "\n",
    "print(eng2,eng1)\n"
   ]
  },
  {
   "cell_type": "code",
   "execution_count": null,
   "metadata": {
    "collapsed": true
   },
   "outputs": [],
   "source": []
  }
 ],
 "metadata": {
  "kernelspec": {
   "display_name": "Python 2",
   "language": "python",
   "name": "python2"
  },
  "language_info": {
   "codemirror_mode": {
    "name": "ipython",
    "version": 2
   },
   "file_extension": ".py",
   "mimetype": "text/x-python",
   "name": "python",
   "nbconvert_exporter": "python",
   "pygments_lexer": "ipython2",
   "version": "2.7.9"
  }
 },
 "nbformat": 4,
 "nbformat_minor": 0
}
