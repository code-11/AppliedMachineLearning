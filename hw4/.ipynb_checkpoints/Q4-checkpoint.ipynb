{
 "cells": [
  {
   "cell_type": "code",
   "execution_count": 63,
   "metadata": {
    "collapsed": false
   },
   "outputs": [],
   "source": [
    "def setup():\n",
    "    f = open('votesmart_20bill.txt', 'r')\n",
    "    condensed={}\n",
    "    rollup=set()\n",
    "    key=\"NAN\"\n",
    "    for line in f:\n",
    "        line=line.replace(\"a\",\"\")\n",
    "        line=line.replace(\"(\",\"\")\n",
    "        line=line.replace(\"\\r\",\"\")\n",
    "        line=line.replace(\"\\n\",\"\")\n",
    "\n",
    "        #if l its a new person\n",
    "        if line[0]==\"l\":\n",
    "            if key!=\"NAN\":\n",
    "                condensed[key]=rollup\n",
    "            key=line\n",
    "            rollup=set()\n",
    "\n",
    "        #if I its a bill and needs to be rolled up\n",
    "        elif line[0]==\"I\":\n",
    "            rollup.add(int(line[1:]))\n",
    "\n",
    "    return condensed\n",
    "\n",
    "def meaning():\n",
    "    meaning={}\n",
    "    f = open('votesmart_20bill_meaning.txt', 'r')\n",
    "    value=\"NAN\"\n",
    "    for line in f:\n",
    "        line=line.replace(\"\\r\",\"\")\n",
    "        line=line.replace(\"\\n\",\"\")\n",
    "        \n",
    "        # if a or aS its a tag\n",
    "        if line[0]==\"S\" or line[0]==\"a\":\n",
    "            line=line.replace(\"\\\\\",\"\")\n",
    "            line=line.replace(\"'\",\"\")\n",
    "            line=line.replace(\"\\\"\",\"\")\n",
    "            \n",
    "            if line[0]==\"a\":\n",
    "                line=line[2:]\n",
    "            else:\n",
    "                line=line[1:]\n",
    "       \n",
    "            value=line\n",
    "            \n",
    "        #if its a p its a bill\n",
    "        elif line[0]==\"p\":\n",
    "            meaning[line[1:]]=value\n",
    "            \n",
    "#         print line\n",
    "    return meaning"
   ]
  },
  {
   "cell_type": "code",
   "execution_count": null,
   "metadata": {
    "collapsed": false
   },
   "outputs": [],
   "source": [
    "import pprint as pp\n",
    "import itertools\n",
    "def make_singletons(data):\n",
    "    uniqs=set()\n",
    "    for person, vote_set in data.iteritems():\n",
    "        uniqs.update(vote_set)\n",
    "#         singletons=map((lambda x:set([x])),uniqs)\n",
    "    stuff=[]\n",
    "    for i in range(len(uniqs)):\n",
    "        combs=itertools.combinations(uniqs,i)\n",
    "        stuff.append(list(combs))\n",
    "    pp.pprint(stuff)\n",
    "def partA():\n",
    "    make_singletons(setup())\n",
    "#     pp.pprint( setup() )\n",
    "partA()"
   ]
  },
  {
   "cell_type": "code",
   "execution_count": null,
   "metadata": {
    "collapsed": true
   },
   "outputs": [],
   "source": []
  }
 ],
 "metadata": {
  "kernelspec": {
   "display_name": "Python 2",
   "language": "python",
   "name": "python2"
  },
  "language_info": {
   "codemirror_mode": {
    "name": "ipython",
    "version": 2
   },
   "file_extension": ".py",
   "mimetype": "text/x-python",
   "name": "python",
   "nbconvert_exporter": "python",
   "pygments_lexer": "ipython2",
   "version": "2.7.9"
  }
 },
 "nbformat": 4,
 "nbformat_minor": 0
}
